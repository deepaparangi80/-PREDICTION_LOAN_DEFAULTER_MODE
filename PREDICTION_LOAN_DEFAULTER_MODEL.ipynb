{
 "cells": [
  {
   "cell_type": "code",
   "execution_count": 5,
   "metadata": {
    "colab": {
     "base_uri": "https://localhost:8080/"
    },
    "id": "a18kEXpccBzX",
    "outputId": "e5d0b8f2-9ce9-45d3-d679-315f4e52b807"
   },
   "outputs": [
    {
     "name": "stdout",
     "output_type": "stream",
     "text": [
      "Drive already mounted at /content/drive; to attempt to forcibly remount, call drive.mount(\"/content/drive\", force_remount=True).\n"
     ]
    }
   ],
   "source": [
    "from google.colab import drive\n",
    "drive.mount('/content/drive')"
   ]
  },
  {
   "cell_type": "code",
   "execution_count": 8,
   "metadata": {
    "id": "fbbLT9MXWknw"
   },
   "outputs": [],
   "source": [
    "import pandas as pd\n",
    "project_path = '/content/drive/MyDrive/ML_Artivatic_dataset.zip (Unzipped Files)/ML_Artivatic_dataset/'\n",
    "df = pd.read_csv(project_path + 'train_indessa.csv')\n",
    " "
   ]
  },
  {
   "cell_type": "code",
   "execution_count": 9,
   "metadata": {
    "id": "5JLKdEBDkU7n"
   },
   "outputs": [],
   "source": [
    "# Class Label : Binary Classification\n",
    "train_target = pd.DataFrame(df['loan_status']) "
   ]
  },
  {
   "cell_type": "code",
   "execution_count": 10,
   "metadata": {
    "colab": {
     "base_uri": "https://localhost:8080/",
     "height": 465
    },
    "id": "PsbL-pb6kscz",
    "outputId": "a18900bd-4270-4d5a-f1e3-77872f9d3def"
   },
   "outputs": [
    {
     "data": {
      "text/html": [
       "<div>\n",
       "<style scoped>\n",
       "    .dataframe tbody tr th:only-of-type {\n",
       "        vertical-align: middle;\n",
       "    }\n",
       "\n",
       "    .dataframe tbody tr th {\n",
       "        vertical-align: top;\n",
       "    }\n",
       "\n",
       "    .dataframe thead th {\n",
       "        text-align: right;\n",
       "    }\n",
       "</style>\n",
       "<table border=\"1\" class=\"dataframe\">\n",
       "  <thead>\n",
       "    <tr style=\"text-align: right;\">\n",
       "      <th></th>\n",
       "      <th>member_id</th>\n",
       "      <th>loan_amnt</th>\n",
       "      <th>funded_amnt</th>\n",
       "      <th>funded_amnt_inv</th>\n",
       "      <th>term</th>\n",
       "      <th>batch_enrolled</th>\n",
       "      <th>int_rate</th>\n",
       "      <th>grade</th>\n",
       "      <th>sub_grade</th>\n",
       "      <th>emp_title</th>\n",
       "      <th>emp_length</th>\n",
       "      <th>home_ownership</th>\n",
       "      <th>annual_inc</th>\n",
       "      <th>verification_status</th>\n",
       "      <th>pymnt_plan</th>\n",
       "      <th>desc</th>\n",
       "      <th>purpose</th>\n",
       "      <th>title</th>\n",
       "      <th>zip_code</th>\n",
       "      <th>addr_state</th>\n",
       "      <th>dti</th>\n",
       "      <th>delinq_2yrs</th>\n",
       "      <th>inq_last_6mths</th>\n",
       "      <th>mths_since_last_delinq</th>\n",
       "      <th>mths_since_last_record</th>\n",
       "      <th>open_acc</th>\n",
       "      <th>pub_rec</th>\n",
       "      <th>revol_bal</th>\n",
       "      <th>revol_util</th>\n",
       "      <th>total_acc</th>\n",
       "      <th>initial_list_status</th>\n",
       "      <th>total_rec_int</th>\n",
       "      <th>total_rec_late_fee</th>\n",
       "      <th>recoveries</th>\n",
       "      <th>collection_recovery_fee</th>\n",
       "      <th>collections_12_mths_ex_med</th>\n",
       "      <th>mths_since_last_major_derog</th>\n",
       "      <th>application_type</th>\n",
       "      <th>verification_status_joint</th>\n",
       "      <th>last_week_pay</th>\n",
       "      <th>acc_now_delinq</th>\n",
       "      <th>tot_coll_amt</th>\n",
       "      <th>tot_cur_bal</th>\n",
       "      <th>total_rev_hi_lim</th>\n",
       "      <th>loan_status</th>\n",
       "    </tr>\n",
       "  </thead>\n",
       "  <tbody>\n",
       "    <tr>\n",
       "      <th>0</th>\n",
       "      <td>58189336</td>\n",
       "      <td>14350</td>\n",
       "      <td>14350</td>\n",
       "      <td>14350.0</td>\n",
       "      <td>36 months</td>\n",
       "      <td></td>\n",
       "      <td>19.19</td>\n",
       "      <td>E</td>\n",
       "      <td>E3</td>\n",
       "      <td>clerk</td>\n",
       "      <td>9 years</td>\n",
       "      <td>OWN</td>\n",
       "      <td>28700.0</td>\n",
       "      <td>Source Verified</td>\n",
       "      <td>n</td>\n",
       "      <td>NaN</td>\n",
       "      <td>debt_consolidation</td>\n",
       "      <td>Debt consolidation</td>\n",
       "      <td>349xx</td>\n",
       "      <td>FL</td>\n",
       "      <td>33.88</td>\n",
       "      <td>0.0</td>\n",
       "      <td>1.0</td>\n",
       "      <td>50.0</td>\n",
       "      <td>75.0</td>\n",
       "      <td>14.0</td>\n",
       "      <td>1.0</td>\n",
       "      <td>22515.0</td>\n",
       "      <td>73.1</td>\n",
       "      <td>28.0</td>\n",
       "      <td>f</td>\n",
       "      <td>1173.84</td>\n",
       "      <td>0.0</td>\n",
       "      <td>0.0</td>\n",
       "      <td>0.0</td>\n",
       "      <td>0.0</td>\n",
       "      <td>74.0</td>\n",
       "      <td>INDIVIDUAL</td>\n",
       "      <td>NaN</td>\n",
       "      <td>26th week</td>\n",
       "      <td>0.0</td>\n",
       "      <td>0.0</td>\n",
       "      <td>28699.0</td>\n",
       "      <td>30800.0</td>\n",
       "      <td>0</td>\n",
       "    </tr>\n",
       "    <tr>\n",
       "      <th>1</th>\n",
       "      <td>70011223</td>\n",
       "      <td>4800</td>\n",
       "      <td>4800</td>\n",
       "      <td>4800.0</td>\n",
       "      <td>36 months</td>\n",
       "      <td>BAT1586599</td>\n",
       "      <td>10.99</td>\n",
       "      <td>B</td>\n",
       "      <td>B4</td>\n",
       "      <td>Human Resources Specialist</td>\n",
       "      <td>&lt; 1 year</td>\n",
       "      <td>MORTGAGE</td>\n",
       "      <td>65000.0</td>\n",
       "      <td>Source Verified</td>\n",
       "      <td>n</td>\n",
       "      <td>NaN</td>\n",
       "      <td>home_improvement</td>\n",
       "      <td>Home improvement</td>\n",
       "      <td>209xx</td>\n",
       "      <td>MD</td>\n",
       "      <td>3.64</td>\n",
       "      <td>0.0</td>\n",
       "      <td>1.0</td>\n",
       "      <td>NaN</td>\n",
       "      <td>NaN</td>\n",
       "      <td>6.0</td>\n",
       "      <td>0.0</td>\n",
       "      <td>7624.0</td>\n",
       "      <td>23.2</td>\n",
       "      <td>13.0</td>\n",
       "      <td>w</td>\n",
       "      <td>83.95</td>\n",
       "      <td>0.0</td>\n",
       "      <td>0.0</td>\n",
       "      <td>0.0</td>\n",
       "      <td>0.0</td>\n",
       "      <td>NaN</td>\n",
       "      <td>INDIVIDUAL</td>\n",
       "      <td>NaN</td>\n",
       "      <td>9th week</td>\n",
       "      <td>0.0</td>\n",
       "      <td>0.0</td>\n",
       "      <td>9974.0</td>\n",
       "      <td>32900.0</td>\n",
       "      <td>0</td>\n",
       "    </tr>\n",
       "    <tr>\n",
       "      <th>2</th>\n",
       "      <td>70255675</td>\n",
       "      <td>10000</td>\n",
       "      <td>10000</td>\n",
       "      <td>10000.0</td>\n",
       "      <td>36 months</td>\n",
       "      <td>BAT1586599</td>\n",
       "      <td>7.26</td>\n",
       "      <td>A</td>\n",
       "      <td>A4</td>\n",
       "      <td>Driver</td>\n",
       "      <td>2 years</td>\n",
       "      <td>OWN</td>\n",
       "      <td>45000.0</td>\n",
       "      <td>Not Verified</td>\n",
       "      <td>n</td>\n",
       "      <td>NaN</td>\n",
       "      <td>debt_consolidation</td>\n",
       "      <td>Debt consolidation</td>\n",
       "      <td>447xx</td>\n",
       "      <td>OH</td>\n",
       "      <td>18.42</td>\n",
       "      <td>0.0</td>\n",
       "      <td>0.0</td>\n",
       "      <td>NaN</td>\n",
       "      <td>NaN</td>\n",
       "      <td>5.0</td>\n",
       "      <td>0.0</td>\n",
       "      <td>10877.0</td>\n",
       "      <td>31.2</td>\n",
       "      <td>19.0</td>\n",
       "      <td>w</td>\n",
       "      <td>56.47</td>\n",
       "      <td>0.0</td>\n",
       "      <td>0.0</td>\n",
       "      <td>0.0</td>\n",
       "      <td>0.0</td>\n",
       "      <td>NaN</td>\n",
       "      <td>INDIVIDUAL</td>\n",
       "      <td>NaN</td>\n",
       "      <td>9th week</td>\n",
       "      <td>0.0</td>\n",
       "      <td>65.0</td>\n",
       "      <td>38295.0</td>\n",
       "      <td>34900.0</td>\n",
       "      <td>0</td>\n",
       "    </tr>\n",
       "    <tr>\n",
       "      <th>3</th>\n",
       "      <td>1893936</td>\n",
       "      <td>15000</td>\n",
       "      <td>15000</td>\n",
       "      <td>15000.0</td>\n",
       "      <td>36 months</td>\n",
       "      <td>BAT4808022</td>\n",
       "      <td>19.72</td>\n",
       "      <td>D</td>\n",
       "      <td>D5</td>\n",
       "      <td>Us office of Personnel Management</td>\n",
       "      <td>10+ years</td>\n",
       "      <td>RENT</td>\n",
       "      <td>105000.0</td>\n",
       "      <td>Not Verified</td>\n",
       "      <td>n</td>\n",
       "      <td>&gt; My goal is to obtain a loan to pay off my hi...</td>\n",
       "      <td>debt_consolidation</td>\n",
       "      <td>Debt consolidation</td>\n",
       "      <td>221xx</td>\n",
       "      <td>VA</td>\n",
       "      <td>14.97</td>\n",
       "      <td>0.0</td>\n",
       "      <td>2.0</td>\n",
       "      <td>46.0</td>\n",
       "      <td>NaN</td>\n",
       "      <td>10.0</td>\n",
       "      <td>0.0</td>\n",
       "      <td>13712.0</td>\n",
       "      <td>55.5</td>\n",
       "      <td>21.0</td>\n",
       "      <td>f</td>\n",
       "      <td>4858.62</td>\n",
       "      <td>0.0</td>\n",
       "      <td>0.0</td>\n",
       "      <td>0.0</td>\n",
       "      <td>0.0</td>\n",
       "      <td>NaN</td>\n",
       "      <td>INDIVIDUAL</td>\n",
       "      <td>NaN</td>\n",
       "      <td>135th week</td>\n",
       "      <td>0.0</td>\n",
       "      <td>0.0</td>\n",
       "      <td>55564.0</td>\n",
       "      <td>24700.0</td>\n",
       "      <td>0</td>\n",
       "    </tr>\n",
       "    <tr>\n",
       "      <th>4</th>\n",
       "      <td>7652106</td>\n",
       "      <td>16000</td>\n",
       "      <td>16000</td>\n",
       "      <td>16000.0</td>\n",
       "      <td>36 months</td>\n",
       "      <td>BAT2833642</td>\n",
       "      <td>10.64</td>\n",
       "      <td>B</td>\n",
       "      <td>B2</td>\n",
       "      <td>LAUSD-HOLLYWOOD HIGH SCHOOL</td>\n",
       "      <td>10+ years</td>\n",
       "      <td>RENT</td>\n",
       "      <td>52000.0</td>\n",
       "      <td>Verified</td>\n",
       "      <td>n</td>\n",
       "      <td>NaN</td>\n",
       "      <td>credit_card</td>\n",
       "      <td>refi</td>\n",
       "      <td>900xx</td>\n",
       "      <td>CA</td>\n",
       "      <td>20.16</td>\n",
       "      <td>0.0</td>\n",
       "      <td>0.0</td>\n",
       "      <td>NaN</td>\n",
       "      <td>NaN</td>\n",
       "      <td>11.0</td>\n",
       "      <td>0.0</td>\n",
       "      <td>35835.0</td>\n",
       "      <td>76.2</td>\n",
       "      <td>27.0</td>\n",
       "      <td>w</td>\n",
       "      <td>2296.41</td>\n",
       "      <td>0.0</td>\n",
       "      <td>0.0</td>\n",
       "      <td>0.0</td>\n",
       "      <td>0.0</td>\n",
       "      <td>NaN</td>\n",
       "      <td>INDIVIDUAL</td>\n",
       "      <td>NaN</td>\n",
       "      <td>96th week</td>\n",
       "      <td>0.0</td>\n",
       "      <td>0.0</td>\n",
       "      <td>47159.0</td>\n",
       "      <td>47033.0</td>\n",
       "      <td>0</td>\n",
       "    </tr>\n",
       "  </tbody>\n",
       "</table>\n",
       "</div>"
      ],
      "text/plain": [
       "   member_id  loan_amnt  ...  total_rev_hi_lim  loan_status\n",
       "0   58189336      14350  ...           30800.0            0\n",
       "1   70011223       4800  ...           32900.0            0\n",
       "2   70255675      10000  ...           34900.0            0\n",
       "3    1893936      15000  ...           24700.0            0\n",
       "4    7652106      16000  ...           47033.0            0\n",
       "\n",
       "[5 rows x 45 columns]"
      ]
     },
     "execution_count": 10,
     "metadata": {
      "tags": []
     },
     "output_type": "execute_result"
    }
   ],
   "source": [
    "df.head() "
   ]
  },
  {
   "cell_type": "code",
   "execution_count": 11,
   "metadata": {
    "colab": {
     "base_uri": "https://localhost:8080/"
    },
    "id": "uahwJ5X2kwTa",
    "outputId": "76462a07-903d-4340-ece4-cb84f4422f43"
   },
   "outputs": [
    {
     "data": {
      "text/plain": [
       "0    406601\n",
       "1    125827\n",
       "Name: loan_status, dtype: int64"
      ]
     },
     "execution_count": 11,
     "metadata": {
      "tags": []
     },
     "output_type": "execute_result"
    }
   ],
   "source": [
    "df['loan_status'].value_counts()"
   ]
  },
  {
   "cell_type": "code",
   "execution_count": 12,
   "metadata": {
    "colab": {
     "base_uri": "https://localhost:8080/"
    },
    "id": "EBrJINKtk5T0",
    "outputId": "79b557cc-a950-44f2-a8fc-c5d7fc01060d"
   },
   "outputs": [
    {
     "data": {
      "text/plain": [
       "Index(['member_id', 'loan_amnt', 'funded_amnt', 'funded_amnt_inv', 'term',\n",
       "       'batch_enrolled', 'int_rate', 'grade', 'sub_grade', 'emp_title',\n",
       "       'emp_length', 'home_ownership', 'annual_inc', 'verification_status',\n",
       "       'pymnt_plan', 'desc', 'purpose', 'title', 'zip_code', 'addr_state',\n",
       "       'dti', 'delinq_2yrs', 'inq_last_6mths', 'mths_since_last_delinq',\n",
       "       'mths_since_last_record', 'open_acc', 'pub_rec', 'revol_bal',\n",
       "       'revol_util', 'total_acc', 'initial_list_status', 'total_rec_int',\n",
       "       'total_rec_late_fee', 'recoveries', 'collection_recovery_fee',\n",
       "       'collections_12_mths_ex_med', 'mths_since_last_major_derog',\n",
       "       'application_type', 'verification_status_joint', 'last_week_pay',\n",
       "       'acc_now_delinq', 'tot_coll_amt', 'tot_cur_bal', 'total_rev_hi_lim',\n",
       "       'loan_status'],\n",
       "      dtype='object')"
      ]
     },
     "execution_count": 12,
     "metadata": {
      "tags": []
     },
     "output_type": "execute_result"
    }
   ],
   "source": [
    "df.columns"
   ]
  },
  {
   "cell_type": "code",
   "execution_count": 13,
   "metadata": {
    "id": "lLo28aEQlJQ3"
   },
   "outputs": [],
   "source": [
    "# Replaces months string with '' \n",
    "df['term'].replace(to_replace=' months', value='', regex=True, inplace=True) \n",
    "\n",
    "# Convert it to numeric\n",
    "df['term'] = pd.to_numeric(df['term'], errors='coerce')"
   ]
  },
  {
   "cell_type": "code",
   "execution_count": 14,
   "metadata": {
    "colab": {
     "base_uri": "https://localhost:8080/"
    },
    "id": "9WekGhnnlRQy",
    "outputId": "416b8ce6-fa6c-4724-87d5-206540b37dc2"
   },
   "outputs": [
    {
     "data": {
      "text/plain": [
       "36    372793\n",
       "60    159635\n",
       "Name: term, dtype: int64"
      ]
     },
     "execution_count": 14,
     "metadata": {
      "tags": []
     },
     "output_type": "execute_result"
    }
   ],
   "source": [
    "df['term'].value_counts() "
   ]
  },
  {
   "cell_type": "code",
   "execution_count": 15,
   "metadata": {
    "id": "cUERPT95lVXd"
   },
   "outputs": [],
   "source": [
    "df['emp_length'].replace('n/a', '0', inplace=True)\n",
    "df['emp_length'].replace(to_replace='\\+ years', value='', regex=True, inplace=True)\n",
    "df['emp_length'].replace(to_replace=' years', value='', regex=True, inplace=True)\n",
    "df['emp_length'].replace(to_replace='< 1 year', value='0', regex=True, inplace=True)\n",
    "df['emp_length'].replace(to_replace=' year', value='', regex=True, inplace=True)\n",
    "\n",
    "# Convert it to numeric\n",
    "df['emp_length'] = pd.to_numeric(df['emp_length'], errors='coerce') "
   ]
  },
  {
   "cell_type": "code",
   "execution_count": 16,
   "metadata": {
    "colab": {
     "base_uri": "https://localhost:8080/"
    },
    "id": "lWT0UGQslqGM",
    "outputId": "cddb8bf5-bf46-4915-f387-d4732065ea76"
   },
   "outputs": [
    {
     "data": {
      "text/plain": [
       "10.0    175105\n",
       "2.0      47276\n",
       "0.0      42253\n",
       "3.0      42175\n",
       "1.0      34202\n",
       "5.0      33393\n",
       "4.0      31581\n",
       "7.0      26680\n",
       "8.0      26443\n",
       "6.0      25741\n",
       "9.0      20688\n",
       "Name: emp_length, dtype: int64"
      ]
     },
     "execution_count": 16,
     "metadata": {
      "tags": []
     },
     "output_type": "execute_result"
    }
   ],
   "source": [
    "df['emp_length'].value_counts()"
   ]
  },
  {
   "cell_type": "code",
   "execution_count": 17,
   "metadata": {
    "id": "mdM_9rHzlvK5"
   },
   "outputs": [],
   "source": [
    "df['sub_grade'].replace(to_replace='A', value='0', regex=True, inplace=True)\n",
    "df['sub_grade'].replace(to_replace='B', value='1', regex=True, inplace=True)\n",
    "df['sub_grade'].replace(to_replace='C', value='2', regex=True, inplace=True)\n",
    "df['sub_grade'].replace(to_replace='D', value='3', regex=True, inplace=True)\n",
    "df['sub_grade'].replace(to_replace='E', value='4', regex=True, inplace=True)\n",
    "df['sub_grade'].replace(to_replace='F', value='5', regex=True, inplace=True)\n",
    "df['sub_grade'].replace(to_replace='G', value='6', regex=True, inplace=True) \n",
    "\n",
    "# Convert it to numeric\n",
    "df['sub_grade'] = pd.to_numeric(df['sub_grade'], errors='coerce')"
   ]
  },
  {
   "cell_type": "code",
   "execution_count": 18,
   "metadata": {
    "colab": {
     "base_uri": "https://localhost:8080/"
    },
    "id": "qjHOAhXimCsJ",
    "outputId": "7278769c-8a81-4b7f-fb5c-97ee023f2e9a"
   },
   "outputs": [
    {
     "data": {
      "text/plain": [
       "13    33844\n",
       "14    33198\n",
       "21    31975\n",
       "22    31356\n",
       "23    30080\n",
       "12    29390\n",
       "15    29313\n",
       "24    29103\n",
       "5     27016\n",
       "11    26968\n",
       "25    24985\n",
       "31    21712\n",
       "4     20823\n",
       "32    17991\n",
       "33    15771\n",
       "34    15226\n",
       "3     14082\n",
       "1     13653\n",
       "2     13533\n",
       "35    12867\n",
       "41    10928\n",
       "42    10255\n",
       "43     8488\n",
       "44     7051\n",
       "45     5773\n",
       "51     4350\n",
       "52     3196\n",
       "53     2708\n",
       "54     2056\n",
       "55     1516\n",
       "61     1112\n",
       "62      824\n",
       "63      559\n",
       "64      391\n",
       "65      335\n",
       "Name: sub_grade, dtype: int64"
      ]
     },
     "execution_count": 18,
     "metadata": {
      "tags": []
     },
     "output_type": "execute_result"
    }
   ],
   "source": [
    "df['sub_grade'].value_counts() "
   ]
  },
  {
   "cell_type": "code",
   "execution_count": 19,
   "metadata": {
    "id": "33PkitlrmJUW"
   },
   "outputs": [],
   "source": [
    "df['last_week_pay'].replace(to_replace='th week', value='', regex=True, inplace=True)\n",
    "\n",
    "df['last_week_pay'].replace(to_replace='NA', value='', regex=True, inplace=True)\n",
    "\n",
    "# Convert it to numeric\n",
    "df['last_week_pay'] = pd.to_numeric(df['last_week_pay'], errors='coerce')"
   ]
  },
  {
   "cell_type": "code",
   "execution_count": 20,
   "metadata": {
    "colab": {
     "base_uri": "https://localhost:8080/"
    },
    "id": "wZyYC0r_oWLW",
    "outputId": "7d4adb6c-80c8-4ebc-d65c-a296642a975a"
   },
   "outputs": [
    {
     "data": {
      "text/plain": [
       "member_id                           0\n",
       "loan_amnt                           0\n",
       "funded_amnt                         0\n",
       "funded_amnt_inv                     0\n",
       "term                                0\n",
       "batch_enrolled                  85149\n",
       "int_rate                            0\n",
       "grade                               0\n",
       "sub_grade                           0\n",
       "emp_title                       30833\n",
       "emp_length                      26891\n",
       "home_ownership                      0\n",
       "annual_inc                          3\n",
       "verification_status                 0\n",
       "pymnt_plan                          0\n",
       "desc                           456829\n",
       "purpose                             0\n",
       "title                              90\n",
       "zip_code                            0\n",
       "addr_state                          0\n",
       "dti                                 0\n",
       "delinq_2yrs                        16\n",
       "inq_last_6mths                     16\n",
       "mths_since_last_delinq         272554\n",
       "mths_since_last_record         450305\n",
       "open_acc                           16\n",
       "pub_rec                            16\n",
       "revol_bal                           0\n",
       "revol_util                        287\n",
       "total_acc                          16\n",
       "initial_list_status                 0\n",
       "total_rec_int                       0\n",
       "total_rec_late_fee                  0\n",
       "recoveries                          0\n",
       "collection_recovery_fee             0\n",
       "collections_12_mths_ex_med         95\n",
       "mths_since_last_major_derog    399448\n",
       "application_type                    0\n",
       "verification_status_joint      532123\n",
       "last_week_pay                   10614\n",
       "acc_now_delinq                     16\n",
       "tot_coll_amt                    42004\n",
       "tot_cur_bal                     42004\n",
       "total_rev_hi_lim                42004\n",
       "loan_status                         0\n",
       "dtype: int64"
      ]
     },
     "execution_count": 20,
     "metadata": {
      "tags": []
     },
     "output_type": "execute_result"
    }
   ],
   "source": [
    "df.isnull().sum()"
   ]
  },
  {
   "cell_type": "code",
   "execution_count": 21,
   "metadata": {
    "id": "WbBBw399ocYc"
   },
   "outputs": [],
   "source": [
    "columns = ['term', 'loan_amnt', 'funded_amnt', 'last_week_pay', 'int_rate', 'sub_grade',\n",
    "           'annual_inc', 'dti', 'mths_since_last_delinq', 'mths_since_last_record', 'open_acc',\n",
    "           'revol_bal', 'revol_util', 'total_acc', 'total_rec_int', 'mths_since_last_major_derog', \n",
    "           'tot_coll_amt', 'tot_cur_bal', 'total_rev_hi_lim', 'emp_length']\n",
    "for col in columns:\n",
    "    df[col].fillna(df[col].median(), inplace=True)  # Filling NaN values with median of each column present in columns.\n",
    "\n",
    "  \n",
    "num_cols = ['acc_now_delinq', 'total_rec_late_fee', 'recoveries', 'collection_recovery_fee', 'collections_12_mths_ex_med']\n",
    "for col in num_cols:\n",
    "    df[col].fillna(0, inplace=True)        ## Filling NaN values with 0 for each column present in columns."
   ]
  },
  {
   "cell_type": "code",
   "execution_count": 22,
   "metadata": {
    "id": "LgiwpH8Hpl2u"
   },
   "outputs": [],
   "source": [
    "# Converts categorical variable into dummy/indicator variables.\n",
    "cate_attr = ['home_ownership', 'purpose']\n",
    "for cat in cate_attr:\n",
    "   df_col = [cat]\n",
    "   df[cat] = df[cat].astype(\"category\")\n",
    "   df[cat] = pd.get_dummies(df, columns=df_col) "
   ]
  },
  {
   "cell_type": "code",
   "execution_count": 24,
   "metadata": {
    "id": "uTXpbMNwprEP"
   },
   "outputs": [],
   "source": [
    "data = df.copy()\n",
    "data= data.drop(['loan_status'], axis=1) "
   ]
  },
  {
   "cell_type": "code",
   "execution_count": 25,
   "metadata": {
    "id": "P73zU1Eepzdc"
   },
   "outputs": [],
   "source": [
    "import math\n",
    "import numpy as np\n",
    "\n",
    "# How big the loan a person has taken with respect to his earnings, annual income to fund by bank ratio\n",
    "data['income_to_loan'] = np.round_(data['annual_inc']/data['funded_amnt'], decimals = 2)\n",
    "\n",
    "# How big the loan a person has taken with respect to his earnings, annual income to fund by investors ratio\n",
    "data['income_to_loan_inv'] = np.round_(data['annual_inc']/data['funded_amnt_inv'], decimals = 2)\n",
    "\n",
    "\n",
    "# Interest paid so far = interest received till date + Late fee received till date\n",
    "data['total_int_paid'] = data['total_rec_int'] + data['total_rec_late_fee']\n",
    "\n",
    "# Calculating EMIs (monthly)\n",
    "#EMI = [P x R x (1+R)^N] / [(1+R)^N-1]\n",
    "principal = data['loan_amnt']\n",
    "rate = data['int_rate'] /(100*12)\n",
    "time = data['term']\n",
    "\n",
    "data['emi_per_month'] = np.round_((principal * rate * (1+rate)**time)/((1+rate)**(time)-1), decimals = 2)\n",
    "\n",
    "# Calculating EMIs paid (in terms of percent) np.round_(in_array, decimals = 2)\n",
    "data['emi_paid_perc'] = np.round_(((data['last_week_pay'])/(data['term']/12*52+1))*100, decimals = 2)"
   ]
  },
  {
   "cell_type": "code",
   "execution_count": 26,
   "metadata": {
    "colab": {
     "base_uri": "https://localhost:8080/"
    },
    "id": "PsTKK9NIqfhk",
    "outputId": "6b4e4403-1cbf-48ac-a0e6-57c85450f0e7"
   },
   "outputs": [
    {
     "data": {
      "text/plain": [
       "(532428, 49)"
      ]
     },
     "execution_count": 26,
     "metadata": {
      "tags": []
     },
     "output_type": "execute_result"
    }
   ],
   "source": [
    "data.shape"
   ]
  },
  {
   "cell_type": "code",
   "execution_count": 27,
   "metadata": {
    "colab": {
     "base_uri": "https://localhost:8080/"
    },
    "id": "x-Zfsw3Iqmik",
    "outputId": "393ee29c-8532-4c56-aaa2-6bbdef388063"
   },
   "outputs": [
    {
     "name": "stdout",
     "output_type": "stream",
     "text": [
      "[nltk_data] Downloading package stopwords to /root/nltk_data...\n",
      "[nltk_data]   Unzipping corpora/stopwords.zip.\n"
     ]
    }
   ],
   "source": [
    "import nltk\n",
    "nltk.download('stopwords')\n",
    "\n",
    "from nltk.corpus import stopwords\n",
    "stop_words = stopwords.words('english') "
   ]
  },
  {
   "cell_type": "code",
   "execution_count": 29,
   "metadata": {
    "id": "MEUvPcZcrti2"
   },
   "outputs": [],
   "source": [
    "cols = ['grade', 'emp_title', 'verification_status_joint', 'verification_status',\n",
    "        'pymnt_plan', 'desc', 'purpose', 'title', 'zip_code', 'addr_state', 'initial_list_status', 'application_type']\n",
    "\n",
    "for col in cols:\n",
    "    data[col].fillna('missing', inplace=True)"
   ]
  },
  {
   "cell_type": "code",
   "execution_count": 30,
   "metadata": {
    "id": "QGWrTMVTry8N"
   },
   "outputs": [],
   "source": [
    "data.fillna(0)  \n",
    "data.reset_index(inplace=True) "
   ]
  },
  {
   "cell_type": "code",
   "execution_count": 31,
   "metadata": {
    "colab": {
     "base_uri": "https://localhost:8080/"
    },
    "id": "Y3vdsj2AsCLV",
    "outputId": "a86cd64e-e976-41f6-cee4-1648e16265f1"
   },
   "outputs": [
    {
     "name": "stdout",
     "output_type": "stream",
     "text": [
      "(532428, 6)\n",
      "(532428, 55)\n"
     ]
    }
   ],
   "source": [
    "from sklearn.feature_extraction.text import TfidfVectorizer\n",
    "\n",
    "v = TfidfVectorizer(min_df=3,  max_features=None, \n",
    "                    strip_accents='unicode', analyzer='word',token_pattern=r'\\w{1,}', \n",
    "                    ngram_range=(1, 3), use_idf=1,smooth_idf=1,sublinear_tf=1,\n",
    "                    stop_words = 'english')\n",
    "\n",
    "x_tfidf = v.fit_transform(data['grade'])   # Create a feature matrix using TFIDF.\n",
    "\n",
    "print(x_tfidf.shape)    # No.of columns represents the number of features made by TFIDF.\n",
    "\n",
    "# Convert the feature matrix to an array and store it a pandas dataframe.\n",
    "df_tfidf = pd.DataFrame(x_tfidf.toarray(), columns=v.get_feature_names())\n",
    "\n",
    "# Concatenate the array dataframe and our final dataframe.\n",
    "res_train = pd.concat([data, df_tfidf], axis=1)\n",
    "\n",
    "# Finally, we drop the 'grade' feature as we have a more dimensional feature matrix.\n",
    "res_train.drop('grade',axis=1,inplace=True)\n",
    "\n",
    "print(res_train.shape)"
   ]
  },
  {
   "cell_type": "code",
   "execution_count": 32,
   "metadata": {
    "colab": {
     "base_uri": "https://localhost:8080/"
    },
    "id": "_8sz_UCfsPjD",
    "outputId": "6eb33ed8-4db2-4acb-a564-a407f7607ffb"
   },
   "outputs": [
    {
     "name": "stdout",
     "output_type": "stream",
     "text": [
      "(532428, 3)\n",
      "(532428, 57)\n"
     ]
    }
   ],
   "source": [
    "from sklearn.feature_extraction.text import TfidfVectorizer\n",
    "\n",
    "v = TfidfVectorizer(min_df=3,  max_features=None, \n",
    "                    strip_accents='unicode', analyzer='word',token_pattern=r'\\w{1,}', \n",
    "                    ngram_range=(1, 3), use_idf=1,smooth_idf=1,sublinear_tf=1,\n",
    "                    stop_words = 'english')\n",
    "\n",
    "# Create a feature matrix using TFIDF\n",
    "x_tfidf = v.fit_transform(res_train['verification_status'])  # We'll use the previous concatenated dataframe here  \n",
    "\n",
    "print(x_tfidf.shape)    # No.of columns represents the number of features made by TFIDF.\n",
    "\n",
    "# Convert the feature matrix to an array and store it a pandas dataframe.\n",
    "df_tfidf = pd.DataFrame(x_tfidf.toarray(), columns=v.get_feature_names() )\n",
    "\n",
    "# Concatenate the array dataframe and our final dataframe.\n",
    "res_train = pd.concat([res_train, df_tfidf], axis=1)\n",
    "\n",
    "# Finally, we drop the 'verification_status' feature as we have a more dimensional feature matrix.\n",
    "res_train.drop('verification_status',axis=1,inplace=True)\n",
    "\n",
    "print(res_train.shape)"
   ]
  },
  {
   "cell_type": "code",
   "execution_count": 33,
   "metadata": {
    "colab": {
     "base_uri": "https://localhost:8080/"
    },
    "id": "VKntKMSctG-8",
    "outputId": "cba49cae-de8d-4da9-fa71-279ad6b325ea"
   },
   "outputs": [
    {
     "name": "stdout",
     "output_type": "stream",
     "text": [
      "(532428, 4)\n",
      "(532428, 60)\n"
     ]
    }
   ],
   "source": [
    "from sklearn.feature_extraction.text import TfidfVectorizer\n",
    "\n",
    "v = TfidfVectorizer(min_df=3,  max_features=None, \n",
    "                    strip_accents='unicode', analyzer='word',token_pattern=r'\\w{1,}', \n",
    "                    ngram_range=(1, 3), use_idf=1,smooth_idf=1,sublinear_tf=1,\n",
    "                    stop_words = 'english')\n",
    "\n",
    "# Create a feature matrix using TFIDF\n",
    "x_tfidf = v.fit_transform(res_train['verification_status_joint'])  # We'll use the previous concatenated dataframe here  \n",
    "\n",
    "print(x_tfidf.shape)    # No.of columns represents the number of features made by TFIDF.\n",
    "\n",
    "# Convert the feature matrix to an array and store it a pandas dataframe.\n",
    "df_tfidf = pd.DataFrame(x_tfidf.toarray(), columns=v.get_feature_names() )\n",
    "\n",
    "# Concatenate the array dataframe and our final dataframe.\n",
    "res_train = pd.concat([res_train, df_tfidf], axis=1)\n",
    "\n",
    "# Finally, we drop the 'verification_status_joint' feature as we have a more dimensional feature matrix.\n",
    "res_train.drop('verification_status_joint',axis=1,inplace=True)\n",
    "\n",
    "print(res_train.shape)"
   ]
  },
  {
   "cell_type": "code",
   "execution_count": 34,
   "metadata": {
    "colab": {
     "base_uri": "https://localhost:8080/"
    },
    "id": "RvvetiCQtSIw",
    "outputId": "76fd7e86-6ce0-450c-e404-7c9c91245b1d"
   },
   "outputs": [
    {
     "name": "stdout",
     "output_type": "stream",
     "text": [
      "(532428, 2)\n",
      "(532428, 61)\n"
     ]
    }
   ],
   "source": [
    "from sklearn.feature_extraction.text import TfidfVectorizer\n",
    "\n",
    "v = TfidfVectorizer(min_df=3,  max_features=None, \n",
    "                    strip_accents='unicode', analyzer='word',token_pattern=r'\\w{1,}', \n",
    "                    ngram_range=(1, 3), use_idf=1,smooth_idf=1,sublinear_tf=1,\n",
    "                    stop_words = 'english')\n",
    "\n",
    "# Create a feature matrix using TFIDF\n",
    "x_tfidf = v.fit_transform(res_train['pymnt_plan'])  # We'll use the previous concatenated dataframe here  \n",
    "\n",
    "print(x_tfidf.shape)    # No.of columns represents the number of features made by TFIDF.\n",
    "\n",
    "# Convert the feature matrix to an array and store it a pandas dataframe.\n",
    "df_tfidf = pd.DataFrame(x_tfidf.toarray(), columns=v.get_feature_names() )\n",
    "\n",
    "# Concatenate the array dataframe and our final dataframe.\n",
    "res_train = pd.concat([res_train, df_tfidf], axis=1)\n",
    "\n",
    "# Finally, we drop the 'pymnt_plan' feature as we have a more dimensional feature matrix.\n",
    "res_train.drop('pymnt_plan',axis=1,inplace=True)\n",
    "\n",
    "print(res_train.shape)"
   ]
  },
  {
   "cell_type": "code",
   "execution_count": 35,
   "metadata": {
    "colab": {
     "base_uri": "https://localhost:8080/"
    },
    "id": "c44D-33ItYEf",
    "outputId": "843edf7a-d32b-4ee9-eafc-da7c3e93b721"
   },
   "outputs": [
    {
     "name": "stdout",
     "output_type": "stream",
     "text": [
      "(532428, 46)\n",
      "(532428, 106)\n"
     ]
    }
   ],
   "source": [
    "from sklearn.feature_extraction.text import TfidfVectorizer\n",
    "\n",
    "v = TfidfVectorizer(min_df=3,  max_features=None, \n",
    "                    strip_accents='unicode', analyzer='word',token_pattern=r'\\w{1,}', \n",
    "                    ngram_range=(1, 3), use_idf=1,smooth_idf=1,sublinear_tf=1,\n",
    "                    stop_words = 'english')\n",
    "\n",
    "# Create a feature matrix using TFIDF\n",
    "x_tfidf = v.fit_transform(res_train['addr_state'])  # We'll use the previous concatenated dataframe here  \n",
    "\n",
    "print(x_tfidf.shape)    # No.of columns represents the number of features made by TFIDF.\n",
    "\n",
    "# Convert the feature matrix to an array and store it a pandas dataframe.\n",
    "df_tfidf = pd.DataFrame(x_tfidf.toarray(), columns=v.get_feature_names() )\n",
    "\n",
    "# Concatenate the array dataframe and our final dataframe.\n",
    "res_train = pd.concat([res_train, df_tfidf], axis=1)\n",
    "\n",
    "# Finally, we drop the 'addr_state' feature as we have a more dimensional feature matrix.\n",
    "res_train.drop('addr_state',axis=1,inplace=True)\n",
    "\n",
    "print(res_train.shape)"
   ]
  },
  {
   "cell_type": "code",
   "execution_count": 36,
   "metadata": {
    "colab": {
     "base_uri": "https://localhost:8080/"
    },
    "id": "Bn018V1GthVe",
    "outputId": "be5ff031-659f-4efa-defb-ad3e5fd27a8f"
   },
   "outputs": [
    {
     "name": "stdout",
     "output_type": "stream",
     "text": [
      "(532428, 2)\n",
      "(532428, 107)\n"
     ]
    }
   ],
   "source": [
    "from sklearn.feature_extraction.text import TfidfVectorizer\n",
    "\n",
    "v = TfidfVectorizer(min_df=3,  max_features=None, \n",
    "                    strip_accents='unicode', analyzer='word',token_pattern=r'\\w{1,}', \n",
    "                    ngram_range=(1, 3), use_idf=1,smooth_idf=1,sublinear_tf=1,\n",
    "                    stop_words = 'english')\n",
    "\n",
    "# Create a feature matrix using TFIDF\n",
    "x_tfidf = v.fit_transform(res_train['initial_list_status'])  # We'll use the previous concatenated dataframe here  \n",
    "\n",
    "print(x_tfidf.shape)    # No.of columns represents the number of features made by TFIDF.\n",
    "\n",
    "# Convert the feature matrix to an array and store it a pandas dataframe.\n",
    "df_tfidf = pd.DataFrame(x_tfidf.toarray(), columns=v.get_feature_names() )\n",
    "\n",
    "# Concatenate the array dataframe and our final dataframe.\n",
    "res_train = pd.concat([res_train, df_tfidf], axis=1)\n",
    "\n",
    "# Finally, we drop the 'initial_list_status' feature as we have a more dimensional feature matrix.\n",
    "res_train.drop('initial_list_status',axis=1,inplace=True) \n",
    "\n",
    "print(res_train.shape)"
   ]
  },
  {
   "cell_type": "code",
   "execution_count": 37,
   "metadata": {
    "colab": {
     "base_uri": "https://localhost:8080/"
    },
    "id": "xBQTSKnet6bN",
    "outputId": "44f86d6f-7a6d-4aac-b96d-020a30668a11"
   },
   "outputs": [
    {
     "name": "stdout",
     "output_type": "stream",
     "text": [
      "(532428, 2)\n",
      "(532428, 108)\n"
     ]
    }
   ],
   "source": [
    "from sklearn.feature_extraction.text import TfidfVectorizer\n",
    "\n",
    "v = TfidfVectorizer(min_df=3,  max_features=None, \n",
    "                    strip_accents='unicode', analyzer='word',token_pattern=r'\\w{1,}', \n",
    "                    ngram_range=(1, 3), use_idf=1,smooth_idf=1,sublinear_tf=1,\n",
    "                    stop_words = 'english')\n",
    "\n",
    "# Create a feature matrix using TFIDF\n",
    "x_tfidf = v.fit_transform(res_train['application_type'])  # We'll use the previous concatenated dataframe here  \n",
    "\n",
    "print(x_tfidf.shape)    # No.of columns represents the number of features made by TFIDF.\n",
    "\n",
    "# Convert the feature matrix to an array and store it a pandas dataframe.\n",
    "df_tfidf = pd.DataFrame(x_tfidf.toarray(), columns=v.get_feature_names() )\n",
    "\n",
    "# Concatenate the array dataframe and our final dataframe.\n",
    "res_train = pd.concat([res_train, df_tfidf], axis=1)\n",
    "\n",
    "# Finally, we drop the 'application_type' feature as we have a more dimensional feature matrix.\n",
    "res_train.drop('application_type',axis=1,inplace=True) \n",
    "\n",
    "print(res_train.shape)"
   ]
  },
  {
   "cell_type": "code",
   "execution_count": 38,
   "metadata": {
    "id": "QpnqL8O-uAR2"
   },
   "outputs": [],
   "source": [
    "res_train.drop(['desc', 'zip_code', 'emp_title', 'title', 'batch_enrolled'], axis=1, inplace=True)"
   ]
  },
  {
   "cell_type": "code",
   "execution_count": 39,
   "metadata": {
    "colab": {
     "base_uri": "https://localhost:8080/"
    },
    "id": "oyz7D-JvuKPr",
    "outputId": "8081f600-96a8-495f-ee4f-768e37425c5c"
   },
   "outputs": [
    {
     "data": {
      "text/plain": [
       "(532428, 103)"
      ]
     },
     "execution_count": 39,
     "metadata": {
      "tags": []
     },
     "output_type": "execute_result"
    }
   ],
   "source": [
    "res_train.shape"
   ]
  },
  {
   "cell_type": "code",
   "execution_count": 40,
   "metadata": {
    "id": "PhWnd7VEuLhy"
   },
   "outputs": [],
   "source": [
    "def scaler():\n",
    "    result = res_train.copy()\n",
    "    for feature_name in res_train.columns:\n",
    "        max_value = res_train[feature_name].max()\n",
    "        min_value = res_train[feature_name].min()\n",
    "        result[feature_name] = (res_train[feature_name] - min_value) / (max_value - min_value)\n",
    "    return result "
   ]
  },
  {
   "cell_type": "code",
   "execution_count": 41,
   "metadata": {
    "id": "y7pshq-zueYV"
   },
   "outputs": [],
   "source": [
    "res_train_scaled = scaler() "
   ]
  },
  {
   "cell_type": "code",
   "execution_count": 42,
   "metadata": {
    "id": "-t4FPmIVuhjO"
   },
   "outputs": [],
   "source": [
    "#  Train-Test Split\n",
    "from sklearn.model_selection import train_test_split\n",
    "\n",
    "X_train, X_test, y_train, y_test = train_test_split(np.array(res_train_scaled), np.array(train_target), test_size=0.30) "
   ]
  },
  {
   "cell_type": "code",
   "execution_count": 43,
   "metadata": {
    "colab": {
     "base_uri": "https://localhost:8080/"
    },
    "id": "6lOvz5ZAu1v_",
    "outputId": "790d5776-83a2-489b-e39d-c7b0850cbde5"
   },
   "outputs": [
    {
     "data": {
      "text/plain": [
       "((372699, 103), (372699, 1), (159729, 103), (159729, 1))"
      ]
     },
     "execution_count": 43,
     "metadata": {
      "tags": []
     },
     "output_type": "execute_result"
    }
   ],
   "source": [
    "X_train.shape, y_train.shape, X_test.shape, y_test.shape "
   ]
  },
  {
   "cell_type": "code",
   "execution_count": 44,
   "metadata": {
    "id": "I_sWMK1su7YV"
   },
   "outputs": [],
   "source": [
    "import matplotlib.pyplot as plt\n",
    "import sklearn.metrics as metrics\n",
    "from sklearn.metrics import confusion_matrix, classification_report, accuracy_score\n",
    "from sklearn.metrics import roc_curve, auc \n",
    "from sklearn.metrics import roc_auc_score"
   ]
  },
  {
   "cell_type": "code",
   "execution_count": 50,
   "metadata": {
    "colab": {
     "base_uri": "https://localhost:8080/"
    },
    "id": "HSfpz_jZwFe3",
    "outputId": "ee0490ce-eee7-4f9b-8b13-19be3693e91d"
   },
   "outputs": [
    {
     "name": "stdout",
     "output_type": "stream",
     "text": [
      "Collecting catboost\n",
      "\u001b[?25l  Downloading https://files.pythonhosted.org/packages/47/80/8e9c57ec32dfed6ba2922bc5c96462cbf8596ce1a6f5de532ad1e43e53fe/catboost-0.25.1-cp37-none-manylinux1_x86_64.whl (67.3MB)\n",
      "\u001b[K     |████████████████████████████████| 67.3MB 43kB/s \n",
      "\u001b[?25hRequirement already satisfied: pandas>=0.24.0 in /usr/local/lib/python3.7/dist-packages (from catboost) (1.1.5)\n",
      "Requirement already satisfied: scipy in /usr/local/lib/python3.7/dist-packages (from catboost) (1.4.1)\n",
      "Requirement already satisfied: numpy>=1.16.0 in /usr/local/lib/python3.7/dist-packages (from catboost) (1.19.5)\n",
      "Requirement already satisfied: six in /usr/local/lib/python3.7/dist-packages (from catboost) (1.15.0)\n",
      "Requirement already satisfied: plotly in /usr/local/lib/python3.7/dist-packages (from catboost) (4.4.1)\n",
      "Requirement already satisfied: graphviz in /usr/local/lib/python3.7/dist-packages (from catboost) (0.10.1)\n",
      "Requirement already satisfied: matplotlib in /usr/local/lib/python3.7/dist-packages (from catboost) (3.2.2)\n",
      "Requirement already satisfied: python-dateutil>=2.7.3 in /usr/local/lib/python3.7/dist-packages (from pandas>=0.24.0->catboost) (2.8.1)\n",
      "Requirement already satisfied: pytz>=2017.2 in /usr/local/lib/python3.7/dist-packages (from pandas>=0.24.0->catboost) (2018.9)\n",
      "Requirement already satisfied: retrying>=1.3.3 in /usr/local/lib/python3.7/dist-packages (from plotly->catboost) (1.3.3)\n",
      "Requirement already satisfied: kiwisolver>=1.0.1 in /usr/local/lib/python3.7/dist-packages (from matplotlib->catboost) (1.3.1)\n",
      "Requirement already satisfied: cycler>=0.10 in /usr/local/lib/python3.7/dist-packages (from matplotlib->catboost) (0.10.0)\n",
      "Requirement already satisfied: pyparsing!=2.0.4,!=2.1.2,!=2.1.6,>=2.0.1 in /usr/local/lib/python3.7/dist-packages (from matplotlib->catboost) (2.4.7)\n",
      "Installing collected packages: catboost\n",
      "Successfully installed catboost-0.25.1\n"
     ]
    }
   ],
   "source": [
    "pip install catboost"
   ]
  },
  {
   "cell_type": "code",
   "execution_count": 52,
   "metadata": {
    "colab": {
     "base_uri": "https://localhost:8080/"
    },
    "id": "FSv8xEEOvB9V",
    "outputId": "552cf461-85d2-4b2b-8af6-c58c8376b42d"
   },
   "outputs": [
    {
     "name": "stdout",
     "output_type": "stream",
     "text": [
      "==========================\n",
      "Train Accuracy: 0.944\n",
      "ROC-AUC: 93.3991595778%\n",
      "Test Accuracy: 0.939\n",
      "==========================\n",
      "[[114909   6949]\n",
      " [  2840  35031]]\n",
      "==========================\n",
      "              precision    recall  f1-score   support\n",
      "\n",
      "           0       0.98      0.94      0.96    121858\n",
      "           1       0.83      0.93      0.88     37871\n",
      "\n",
      "    accuracy                           0.94    159729\n",
      "   macro avg       0.91      0.93      0.92    159729\n",
      "weighted avg       0.94      0.94      0.94    159729\n",
      "\n",
      "==========================\n",
      "Precision Score: 0.834\n",
      "Recall Score: 0.925\n",
      "F1 Score: 0.877\n"
     ]
    }
   ],
   "source": [
    "#CATBoost classifier\n",
    "from catboost import CatBoostClassifier\n",
    "cat_clf = CatBoostClassifier(learning_rate=0.1, n_estimators=1400, subsample=0.70, max_depth=6, scale_pos_weight=2.5, silent=True)\n",
    "cat_clf.fit(X_train, y_train)\n",
    "\n",
    "# evaluate predictions\n",
    "y_train_predict_cat = cat_clf.predict(X_train)\n",
    "print(\"==========================\")\n",
    "print('Train Accuracy: %.3f' % metrics.accuracy_score(y_train, y_train_predict_cat))\n",
    "\n",
    "# make predictions for test data\n",
    "y_pred_cat = cat_clf.predict(X_test)\n",
    "predictions = [round(value) for value in y_pred_cat]\n",
    "\n",
    "\n",
    "accuracy_per_roc_auc = roc_auc_score(y_test, predictions)\n",
    "print(\"ROC-AUC: %.10f%%\" % (accuracy_per_roc_auc * 100))\n",
    "\n",
    "print('Test Accuracy: %.3f' % metrics.accuracy_score(y_test, predictions))\n",
    "print(\"==========================\")\n",
    "print(metrics.confusion_matrix(y_test, predictions))\n",
    "print(\"==========================\")\n",
    "print(metrics.classification_report(y_test, predictions))\n",
    "print(\"==========================\")\n",
    "print('Precision Score: %.3f' % metrics.precision_score(y_test, predictions))\n",
    "print('Recall Score: %.3f' % metrics.recall_score(y_test, predictions))\n",
    "print('F1 Score: %.3f' % metrics.f1_score(y_test, predictions)) "
   ]
  },
  {
   "cell_type": "code",
   "execution_count": 53,
   "metadata": {
    "colab": {
     "base_uri": "https://localhost:8080/",
     "height": 295
    },
    "id": "9FyneYvMvO4K",
    "outputId": "7507cc57-82ce-48bf-ae2e-5b7b692c676d"
   },
   "outputs": [
    {
     "data": {
      "image/png": "[encoded data removed]",
      "text/plain": [
       "<Figure size 432x288 with 1 Axes>"
      ]
     },
     "metadata": {
      "needs_background": "light",
      "tags": []
     },
     "output_type": "display_data"
    }
   ],
   "source": [
    "y_train_pred = cat_clf.predict(X_train)    \n",
    "y_test_pred = cat_clf.predict(X_test)\n",
    "\n",
    "\n",
    "train_fpr, train_tpr, train_thresholds = roc_curve(y_train, y_train_pred)\n",
    "test_fpr, test_tpr, test_thresholds = roc_curve(y_test, y_test_pred)\n",
    "\n",
    "plt.plot(train_fpr, train_tpr, label=\"Train AUC =\"+str(auc(train_fpr, train_tpr)))\n",
    "plt.plot(test_fpr, test_tpr, label=\"Test AUC =\"+str(auc(test_fpr, test_tpr)))\n",
    "plt.legend()\n",
    "plt.xlabel(\"True Positive Rate(TPR)\", fontweight='bold')\n",
    "plt.ylabel(\"False Positive Rate(FPR)\", fontweight='bold')\n",
    "plt.title(\"ROC-AUC\", fontweight='bold')\n",
    "plt.grid()\n",
    "plt.show() "
   ]
  },
  {
   "cell_type": "code",
   "execution_count": 60,
   "metadata": {
    "colab": {
     "base_uri": "https://localhost:8080/"
    },
    "id": "fUA9Z5p5zzuc",
    "outputId": "1088348d-c1ca-40d1-9e8f-aee293592f34"
   },
   "outputs": [
    {
     "name": "stdout",
     "output_type": "stream",
     "text": [
      "Catboost classifier\n",
      "ROC_AUC accuracy is 93.39%\n",
      "TEST accuracy is 93.9% \n"
     ]
    }
   ],
   "source": [
    "print (\"Catboost classifier\")\n",
    "print (\"ROC_AUC accuracy is 93.39%\") \n",
    "print(\"TEST accuracy is 93.9% \")"
   ]
  },
  {
   "cell_type": "code",
   "execution_count": 54,
   "metadata": {
    "colab": {
     "base_uri": "https://localhost:8080/"
    },
    "id": "9gMx75NpyFvS",
    "outputId": "3c604e44-a0a9-40f8-96ab-784a979b924d"
   },
   "outputs": [
    {
     "name": "stderr",
     "output_type": "stream",
     "text": [
      "/usr/local/lib/python3.7/dist-packages/sklearn/preprocessing/_label.py:235: DataConversionWarning: A column-vector y was passed when a 1d array was expected. Please change the shape of y to (n_samples, ), for example using ravel().\n",
      "  y = column_or_1d(y, warn=True)\n",
      "/usr/local/lib/python3.7/dist-packages/sklearn/preprocessing/_label.py:268: DataConversionWarning: A column-vector y was passed when a 1d array was expected. Please change the shape of y to (n_samples, ), for example using ravel().\n",
      "  y = column_or_1d(y, warn=True)\n"
     ]
    },
    {
     "name": "stdout",
     "output_type": "stream",
     "text": [
      "==========================\n",
      "Train Accuracy 0.950\n",
      "ROC-AUC: 93.2673777046%\n",
      "Test Accuracy 0.939\n",
      "==========================\n",
      "[[115019   6839]\n",
      " [  2974  34897]]\n",
      "==========================\n",
      "              precision    recall  f1-score   support\n",
      "\n",
      "           0       0.97      0.94      0.96    121858\n",
      "           1       0.84      0.92      0.88     37871\n",
      "\n",
      "    accuracy                           0.94    159729\n",
      "   macro avg       0.91      0.93      0.92    159729\n",
      "weighted avg       0.94      0.94      0.94    159729\n",
      "\n",
      "==========================\n",
      "Precision Score 0.836\n",
      "Recall Score 0.921\n",
      "F1 Score 0.877\n"
     ]
    }
   ],
   "source": [
    "#LGBM Light Gradient Boosting Machine\n",
    "from lightgbm import LGBMClassifier\n",
    "\n",
    "lgbm = LGBMClassifier(objective =\"binary\",verbosity = -1, learning_rate=0.1, n_estimators=1000, scale_pos_weight=2.5)\n",
    "    \n",
    "lgbm.fit(X_train, y_train)\n",
    "\n",
    "\n",
    "# evaluate predictions\n",
    "y_train_predict_lgbm = lgbm.predict(X_train)\n",
    "\n",
    "print(\"==========================\")\n",
    "print('Train Accuracy %.3f' % metrics.accuracy_score(y_train, y_train_predict_lgbm))\n",
    "\n",
    "# make predictions for test data\n",
    "y_pred_lgbm = lgbm.predict(X_test)\n",
    "predictions = [round(value) for value in y_pred_lgbm]\n",
    "\n",
    "\n",
    "accuracy_per_roc_auc = roc_auc_score(y_test, predictions)\n",
    "print(\"ROC-AUC: %.10f%%\" % (accuracy_per_roc_auc * 100))\n",
    "\n",
    "\n",
    "print('Test Accuracy %.3f' % metrics.accuracy_score(y_test, predictions))\n",
    "print(\"==========================\")\n",
    "print(metrics.confusion_matrix(y_test, predictions))\n",
    "print(\"==========================\")\n",
    "print(metrics.classification_report(y_test, predictions))\n",
    "print(\"==========================\")\n",
    "print('Precision Score %.3f' % metrics.precision_score(y_test, predictions))\n",
    "print('Recall Score %.3f' % metrics.recall_score(y_test, predictions))\n",
    "print('F1 Score %.3f' % metrics.f1_score(y_test, predictions)) "
   ]
  },
  {
   "cell_type": "code",
   "execution_count": 55,
   "metadata": {
    "colab": {
     "base_uri": "https://localhost:8080/",
     "height": 295
    },
    "id": "vk9zKperyZNH",
    "outputId": "2ca17be9-3ec9-4dd2-a57e-0c3c492c5743"
   },
   "outputs": [
    {
     "data": {
      "image/png": "[encoded data removed]",
      "text/plain": [
       "<Figure size 432x288 with 1 Axes>"
      ]
     },
     "metadata": {
      "needs_background": "light",
      "tags": []
     },
     "output_type": "display_data"
    }
   ],
   "source": [
    "y_train_pred = lgbm.predict(X_train)    \n",
    "y_test_pred = lgbm.predict(X_test)\n",
    "\n",
    "\n",
    "train_fpr, train_tpr, tr_thresholds = roc_curve(y_train, y_train_pred)\n",
    "test_fpr, test_tpr, te_thresholds = roc_curve(y_test, y_test_pred)\n",
    "\n",
    "plt.plot(train_fpr, train_tpr, label=\"Train AUC =\"+str(auc(train_fpr, train_tpr)))\n",
    "plt.plot(test_fpr, test_tpr, label=\"Test AUC =\"+str(auc(test_fpr, test_tpr)))\n",
    "plt.legend()\n",
    "plt.xlabel(\"True Positive Rate(TPR)\", fontweight='bold')\n",
    "plt.ylabel(\"False Positive Rate(FPR)\", fontweight='bold')\n",
    "plt.title(\"ROC-AUC\")\n",
    "plt.grid()\n",
    "plt.show()  "
   ]
  },
  {
   "cell_type": "code",
   "execution_count": 61,
   "metadata": {
    "colab": {
     "base_uri": "https://localhost:8080/"
    },
    "id": "KxIExyBlyyHy",
    "outputId": "54516f1e-13a1-4b9a-990b-ec36d8b6a3f8"
   },
   "outputs": [
    {
     "name": "stdout",
     "output_type": "stream",
     "text": [
      "LGBTM classifier\n",
      "ROC_AUC accuracy is 93.26%\n",
      "TEST accuracy is 93.9% \n"
     ]
    }
   ],
   "source": [
    "print (\"LGBTM classifier\")\n",
    "print (\"ROC_AUC accuracy is 93.26%\") \n",
    "print(\"TEST accuracy is 93.9% \")"
   ]
  },
  {
   "cell_type": "code",
   "execution_count": null,
   "metadata": {
    "id": "dkbsgXKk1iuf"
   },
   "outputs": [],
   "source": [
    "CATBOOST classifier the model gave the heighest accuracy"
   ]
  }
 ],
 "metadata": {
  "accelerator": "GPU",
  "colab": {
   "collapsed_sections": [],
   "name": "PREDICTION_LOAN DEFAULTER_MODEL.ipynb",
   "provenance": []
  },
  "kernelspec": {
   "display_name": "Python 3",
   "language": "python",
   "name": "python3"
  },
  "language_info": {
   "codemirror_mode": {
    "name": "ipython",
    "version": 3
   },
   "file_extension": ".py",
   "mimetype": "text/x-python",
   "name": "python",
   "nbconvert_exporter": "python",
   "pygments_lexer": "ipython3",
   "version": "3.8.5"
  }
 },
 "nbformat": 4,
 "nbformat_minor": 1
}
